{
  "cells": [
    {
      "cell_type": "code",
      "execution_count": null,
      "metadata": {
        "id": "I5fba1ec2DhC",
        "colab": {
          "base_uri": "https://localhost:8080/",
          "height": 407
        },
        "outputId": "23bc90d8-3a0f-4125-fee3-92fc78ff6d1d"
      },
      "outputs": [
        {
          "output_type": "error",
          "ename": "RuntimeError",
          "evalue": "ignored",
          "traceback": [
            "\u001b[0;31m---------------------------------------------------------------------------\u001b[0m",
            "\u001b[0;31mRuntimeError\u001b[0m                              Traceback (most recent call last)",
            "\u001b[0;32m<ipython-input-2-c34fc3321348>\u001b[0m in \u001b[0;36m<module>\u001b[0;34m()\u001b[0m\n\u001b[1;32m      6\u001b[0m \u001b[0;32mimport\u001b[0m \u001b[0mmatplotlib\u001b[0m\u001b[0;34m.\u001b[0m\u001b[0mpatches\u001b[0m \u001b[0;32mas\u001b[0m \u001b[0mpatches\u001b[0m\u001b[0;34m\u001b[0m\u001b[0;34m\u001b[0m\u001b[0m\n\u001b[1;32m      7\u001b[0m \u001b[0mget_ipython\u001b[0m\u001b[0;34m(\u001b[0m\u001b[0;34m)\u001b[0m\u001b[0;34m.\u001b[0m\u001b[0mmagic\u001b[0m\u001b[0;34m(\u001b[0m\u001b[0;34m'matplotlib inline'\u001b[0m\u001b[0;34m)\u001b[0m\u001b[0;34m\u001b[0m\u001b[0;34m\u001b[0m\u001b[0m\n\u001b[0;32m----> 8\u001b[0;31m \u001b[0;32mimport\u001b[0m \u001b[0mface_recognition\u001b[0m\u001b[0;34m\u001b[0m\u001b[0;34m\u001b[0m\u001b[0m\n\u001b[0m\u001b[1;32m      9\u001b[0m \u001b[0;32mimport\u001b[0m \u001b[0mnumpy\u001b[0m \u001b[0;32mas\u001b[0m \u001b[0mnp\u001b[0m\u001b[0;34m\u001b[0m\u001b[0;34m\u001b[0m\u001b[0m\n\u001b[1;32m     10\u001b[0m \u001b[0;32mfrom\u001b[0m \u001b[0mPIL\u001b[0m \u001b[0;32mimport\u001b[0m \u001b[0mImageDraw\u001b[0m\u001b[0;34m\u001b[0m\u001b[0;34m\u001b[0m\u001b[0m\n",
            "\u001b[0;32m/usr/local/lib/python3.7/dist-packages/face_recognition/__init__.py\u001b[0m in \u001b[0;36m<module>\u001b[0;34m()\u001b[0m\n\u001b[1;32m      5\u001b[0m \u001b[0m__version__\u001b[0m \u001b[0;34m=\u001b[0m \u001b[0;34m'1.2.3'\u001b[0m\u001b[0;34m\u001b[0m\u001b[0;34m\u001b[0m\u001b[0m\n\u001b[1;32m      6\u001b[0m \u001b[0;34m\u001b[0m\u001b[0m\n\u001b[0;32m----> 7\u001b[0;31m \u001b[0;32mfrom\u001b[0m \u001b[0;34m.\u001b[0m\u001b[0mapi\u001b[0m \u001b[0;32mimport\u001b[0m \u001b[0mload_image_file\u001b[0m\u001b[0;34m,\u001b[0m \u001b[0mface_locations\u001b[0m\u001b[0;34m,\u001b[0m \u001b[0mbatch_face_locations\u001b[0m\u001b[0;34m,\u001b[0m \u001b[0mface_landmarks\u001b[0m\u001b[0;34m,\u001b[0m \u001b[0mface_encodings\u001b[0m\u001b[0;34m,\u001b[0m \u001b[0mcompare_faces\u001b[0m\u001b[0;34m,\u001b[0m \u001b[0mface_distance\u001b[0m\u001b[0;34m\u001b[0m\u001b[0;34m\u001b[0m\u001b[0m\n\u001b[0m",
            "\u001b[0;32m/usr/local/lib/python3.7/dist-packages/face_recognition/api.py\u001b[0m in \u001b[0;36m<module>\u001b[0;34m()\u001b[0m\n\u001b[1;32m     24\u001b[0m \u001b[0;34m\u001b[0m\u001b[0m\n\u001b[1;32m     25\u001b[0m \u001b[0mcnn_face_detection_model\u001b[0m \u001b[0;34m=\u001b[0m \u001b[0mface_recognition_models\u001b[0m\u001b[0;34m.\u001b[0m\u001b[0mcnn_face_detector_model_location\u001b[0m\u001b[0;34m(\u001b[0m\u001b[0;34m)\u001b[0m\u001b[0;34m\u001b[0m\u001b[0;34m\u001b[0m\u001b[0m\n\u001b[0;32m---> 26\u001b[0;31m \u001b[0mcnn_face_detector\u001b[0m \u001b[0;34m=\u001b[0m \u001b[0mdlib\u001b[0m\u001b[0;34m.\u001b[0m\u001b[0mcnn_face_detection_model_v1\u001b[0m\u001b[0;34m(\u001b[0m\u001b[0mcnn_face_detection_model\u001b[0m\u001b[0;34m)\u001b[0m\u001b[0;34m\u001b[0m\u001b[0;34m\u001b[0m\u001b[0m\n\u001b[0m\u001b[1;32m     27\u001b[0m \u001b[0;34m\u001b[0m\u001b[0m\n\u001b[1;32m     28\u001b[0m \u001b[0mface_recognition_model\u001b[0m \u001b[0;34m=\u001b[0m \u001b[0mface_recognition_models\u001b[0m\u001b[0;34m.\u001b[0m\u001b[0mface_recognition_model_location\u001b[0m\u001b[0;34m(\u001b[0m\u001b[0;34m)\u001b[0m\u001b[0;34m\u001b[0m\u001b[0;34m\u001b[0m\u001b[0m\n",
            "\u001b[0;31mRuntimeError\u001b[0m: Error while calling cudaGetDevice(&the_device_id) in file /tmp/wheels/python3/gitroot/dlib/dlib/cuda/gpu_data.cpp:201. code: 100, reason: no CUDA-capable device is detected"
          ]
        }
      ],
      "source": [
        "#@title Load libraries\n",
        "!pip install -q face_recognition\n",
        "!pip install -q fer\n",
        "import matplotlib.pyplot as plt\n",
        "from matplotlib.pyplot import imshow\n",
        "import matplotlib.patches as patches\n",
        "%matplotlib inline\n",
        "import face_recognition\n",
        "import numpy as np\n",
        "from PIL import ImageDraw\n",
        "import PIL.Image\n",
        "from io import BytesIO\n",
        "from fer import FER\n",
        "import cv2\n",
        "import operator\n",
        "import time\n",
        "from google.colab import files\n",
        "from google.colab.patches import cv2_imshow\n",
        "detector = FER()"
      ]
    },
    {
      "cell_type": "code",
      "execution_count": null,
      "metadata": {
        "id": "ll-sdD6LzSB1"
      },
      "outputs": [],
      "source": [
        "#@title Upload image with faces\n",
        "uploaded = files.upload() #https://unsplash.com/photos/1qfy-jDc_jo"
      ]
    },
    {
      "cell_type": "code",
      "execution_count": null,
      "metadata": {
        "cellView": "form",
        "id": "4DDeKzSd_NB9"
      },
      "outputs": [],
      "source": [
        "#@title Display image\n",
        "image = face_recognition.load_image_file(list(uploaded.keys())[0])\n",
        "boundary = 24\n",
        "im = PIL.Image.open(list(uploaded.keys())[0])\n",
        "height = (im.size[1] / im.size[0]) * 20\n",
        "fig=plt.subplots(figsize=(20,height))\n",
        "imshow(im)"
      ]
    },
    {
      "cell_type": "code",
      "execution_count": null,
      "metadata": {
        "cellView": "form",
        "id": "v0UzJAG7AsBJ"
      },
      "outputs": [],
      "source": [
        "#@title Use 'Face Recognition' library and draw a red box around the faces\n",
        "start = time.time()\n",
        "face_locations = face_recognition.face_locations(image)\n",
        "fig,ax = plt.subplots(figsize=(20,height))\n",
        "for face_location in face_locations:\n",
        "    top, right, bottom, left = face_location \n",
        "    ax.imshow(im,aspect='auto')\n",
        "    rect = patches.Rectangle((left,top), (right - left), (bottom-top),linewidth=3,edgecolor='r',facecolor='none')\n",
        "    ax.add_patch(rect)\n",
        "end = time.time()\n",
        "print(\"Number of faces:\",len(face_locations))\n",
        "print(\"Time taken:\",round(end-start,2),\" seconds\")"
      ]
    },
    {
      "cell_type": "code",
      "execution_count": null,
      "metadata": {
        "id": "mmBtwM_J2DhY"
      },
      "outputs": [],
      "source": [
        "#@title Use 'Face Recognition' library and draw a red box around the faces as well as predicted emotion\n",
        "start = time.time()\n",
        "face_locations = face_recognition.face_locations(image)\n",
        "fig,ax = plt.subplots(figsize=(20,height))\n",
        "for face_location in face_locations:\n",
        "    top, right, bottom, left = face_location \n",
        "    ax.imshow(im,aspect='auto')\n",
        "    rect = patches.Rectangle((left,top), (right - left), (bottom-top),linewidth=3,edgecolor='r',facecolor='none')\n",
        "    ax.add_patch(rect)\n",
        "    face_image = image[top-boundary:bottom+boundary, left-boundary:right+boundary]\n",
        "    attribute = detector.detect_emotions(face_image)\n",
        "    if (not attribute) == False:\n",
        "      emotion = max(attribute[0]['emotions'].items(),key=operator.itemgetter(1))[0]\n",
        "      #print(emotion)\n",
        "      plt.text(left, top, emotion, fontsize=8, bbox=dict(fill=True, edgecolor='blue', linewidth=1))\n",
        "end = time.time()\n",
        "print(\"Number of faces:\",len(face_locations))\n",
        "print(\"Time taken:\",end-start,\" seconds\")"
      ]
    },
    {
      "cell_type": "code",
      "execution_count": null,
      "metadata": {
        "id": "Xmk-OR5S5eUb"
      },
      "outputs": [],
      "source": [
        "#@title Use Haar Cascades and draw a red box around the faces\n",
        "start = time.time()\n",
        "#Load the cascade\n",
        "face_cascade = cv2.CascadeClassifier(cv2.data.haarcascades + 'haarcascade_frontalface_default.xml')\n",
        "\n",
        "#Read the input image\n",
        "img = cv2.imread(list(uploaded.keys())[0])\n",
        "\n",
        "#Convert into GrayScale\n",
        "gray = cv2.cvtColor(img, cv2.COLOR_BGR2GRAY)\n",
        "#Detect Faces\n",
        "faces = face_cascade.detectMultiScale(gray, 1.3, 4)\n",
        "#Draw rectangle around each faces\n",
        "for (x, y, w, h) in faces:\n",
        "    cv2.rectangle(img, (x, y), (x + w, y + h), (0, 0, 255), 3)\n",
        "#Display the output\n",
        "ims = cv2.resize(img,(im.size[0],im.size[1]))\n",
        "cv2_imshow(ims)\n",
        "cv2.waitKey()\n",
        "end = time.time()\n",
        "print(\"Time taken:\",end-start,\" seconds\")\n",
        "print(\"Number of faces:\",len(faces))"
      ]
    }
  ],
  "metadata": {
    "accelerator": "GPU",
    "colab": {
      "collapsed_sections": [],
      "name": "face_recognition_2.ipynb",
      "provenance": []
    },
    "kernelspec": {
      "display_name": "Python 3",
      "language": "python",
      "name": "python3"
    },
    "language_info": {
      "codemirror_mode": {
        "name": "ipython",
        "version": 3
      },
      "file_extension": ".py",
      "mimetype": "text/x-python",
      "name": "python",
      "nbconvert_exporter": "python",
      "pygments_lexer": "ipython3",
      "version": "3.7.7"
    }
  },
  "nbformat": 4,
  "nbformat_minor": 0
}